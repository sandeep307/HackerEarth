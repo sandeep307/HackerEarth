{
 "cells": [
  {
   "cell_type": "markdown",
   "metadata": {},
   "source": [
    "Using lightgbm and simple date features, this script scores ~ 0.674 on Public LB."
   ]
  },
  {
   "cell_type": "markdown",
   "metadata": {},
   "source": [
    "### Load libraries and data"
   ]
  },
  {
   "cell_type": "code",
   "execution_count": 1,
   "metadata": {
    "collapsed": true
   },
   "outputs": [],
   "source": [
    "import warnings\n",
    "warnings.filterwarnings('ignore')"
   ]
  },
  {
   "cell_type": "code",
   "execution_count": 2,
   "metadata": {},
   "outputs": [
    {
     "name": "stderr",
     "output_type": "stream",
     "text": [
      "C:\\ProgramData\\Anaconda3\\lib\\site-packages\\sklearn\\cross_validation.py:44: DeprecationWarning: This module was deprecated in version 0.18 in favor of the model_selection module into which all the refactored classes and functions are moved. Also note that the interface of the new CV iterators are different from that of this module. This module will be removed in 0.20.\n",
      "  \"This module will be removed in 0.20.\", DeprecationWarning)\n"
     ]
    }
   ],
   "source": [
    "import pandas as pd\n",
    "import numpy as np\n",
    "import xgboost as xgb\n",
    "from sklearn.model_selection import train_test_split\n",
    "from sklearn.preprocessing import LabelEncoder\n",
    "%matplotlib inline\n",
    "import matplotlib.pyplot as plt\n",
    "from sklearn.preprocessing import OneHotEncoder, LabelEncoder"
   ]
  },
  {
   "cell_type": "code",
   "execution_count": 3,
   "metadata": {
    "collapsed": true
   },
   "outputs": [],
   "source": [
    "train = pd.read_csv(\"train.csv\")\n",
    "test = pd.read_csv(\"test.csv\")"
   ]
  },
  {
   "cell_type": "code",
   "execution_count": 4,
   "metadata": {},
   "outputs": [
    {
     "name": "stdout",
     "output_type": "stream",
     "text": [
      "(12137810, 10) (3706907, 9)\n"
     ]
    }
   ],
   "source": [
    "print (train.shape, test.shape)"
   ]
  },
  {
   "cell_type": "code",
   "execution_count": 72,
   "metadata": {
    "collapsed": true
   },
   "outputs": [],
   "source": [
    "# modeling on sampled (3e6) rows\n",
    "rows = np.random.choice(train.index.values, int(0.3 * train.shape[0]))\n",
    "train = train.loc[rows].reset_index(drop = True)"
   ]
  },
  {
   "cell_type": "code",
   "execution_count": 73,
   "metadata": {},
   "outputs": [
    {
     "data": {
      "text/plain": [
       "Index(['ID', 'datetime', 'siteid', 'offerid', 'category', 'merchant',\n",
       "       'countrycode', 'browserid', 'devid', 'click'],\n",
       "      dtype='object')"
      ]
     },
     "execution_count": 73,
     "metadata": {},
     "output_type": "execute_result"
    }
   ],
   "source": [
    "train.columns"
   ]
  },
  {
   "cell_type": "code",
   "execution_count": 74,
   "metadata": {
    "collapsed": true
   },
   "outputs": [],
   "source": [
    "train['siteid'].fillna(-999, inplace=True)\n",
    "test['siteid'].fillna(-999, inplace=True)\n",
    "\n",
    "train['browserid'].fillna(\"None\", inplace=True)\n",
    "test['browserid'].fillna(\"None\", inplace=True)\n",
    "\n",
    "train['devid'].fillna(\"None\", inplace=True)\n",
    "test['devid'].fillna(\"None\", inplace=True)"
   ]
  },
  {
   "cell_type": "markdown",
   "metadata": {},
   "source": [
    "## Create count vars"
   ]
  },
  {
   "cell_type": "code",
   "execution_count": 75,
   "metadata": {},
   "outputs": [
    {
     "data": {
      "text/plain": [
       "(3641343, 10)"
      ]
     },
     "execution_count": 75,
     "metadata": {},
     "output_type": "execute_result"
    }
   ],
   "source": [
    "train.shape"
   ]
  },
  {
   "cell_type": "code",
   "execution_count": 76,
   "metadata": {
    "collapsed": true
   },
   "outputs": [],
   "source": [
    "merchant = train.merchant.tolist()\n",
    "merchant_cnt_map = pd.Series(merchant).value_counts().to_dict()\n",
    "train['merchant_cnt'] = train.merchant.map(merchant_cnt_map)\n",
    "test['merchant_cnt'] = test.merchant.map(merchant_cnt_map)\n",
    "\n",
    "\n",
    "siteid =  train.siteid.tolist()\n",
    "siteid_cnt_map = pd.Series(siteid).value_counts().to_dict()\n",
    "train['siteid_cnt'] = train.siteid.map(siteid_cnt_map)\n",
    "test['siteid_cnt'] = test.siteid.map(siteid_cnt_map)\n",
    "\n",
    "\n",
    "category = train.category.tolist()\n",
    "category_map = pd.Series(category).value_counts().to_dict()\n",
    "train['category_cnt'] = train.category.map(category_map)\n",
    "test['category_cnt'] = test.category.map(category_map)\n",
    "\n",
    "\n",
    "offerid = train.offerid.tolist()\n",
    "offerid_cnt_map = pd.Series(offerid).value_counts().to_dict()\n",
    "train['offerid_cnt'] = train.offerid.map(offerid_cnt_map)\n",
    "test['offerid_cnt'] = test.offerid.map(offerid_cnt_map)\n",
    "del siteid, merchant, offerid, category, siteid_cnt_map, merchant_cnt_map, category_map, offerid_cnt_map"
   ]
  },
  {
   "cell_type": "code",
   "execution_count": 77,
   "metadata": {
    "collapsed": true
   },
   "outputs": [],
   "source": [
    "merc_offer = train[['merchant','offerid','ID']].groupby(['merchant','offerid'],\\\n",
    "                                                        as_index = False).count().rename(columns = {'ID': 'merc_offer_cnt'})\n",
    "merc_site = train[['merchant','siteid','ID']].groupby(['merchant','siteid'] , \\\n",
    "                                                      as_index = False).count().rename(columns = {'ID': 'merc_site_cnt'})\n",
    "merc_cat = train[['merchant','category','ID']].groupby(['merchant','category'] \\\n",
    "                                                       ,as_index = False).count().rename(columns = {'ID': 'merc_cat_cnt'})\n",
    "site_offer = train[['siteid','offerid','ID']].groupby(['siteid','offerid'],\\\n",
    "                                                      as_index = False).count().rename(columns = {'ID': 'site_offer_cnt'})\n",
    "site_cat = train[['siteid','category','ID']].groupby(['siteid','category'] ,\\\n",
    "                                                     as_index = False).count().rename(columns = {'ID': 'site_cat_cnt'})\n",
    "cat_offer = train[['category','offerid','ID']].groupby(['category','offerid'],\\\n",
    "                                                       as_index = False).count().rename(columns = {'ID': 'cat_offer_cnt'})"
   ]
  },
  {
   "cell_type": "code",
   "execution_count": 78,
   "metadata": {},
   "outputs": [
    {
     "data": {
      "text/plain": [
       "Index(['ID', 'datetime', 'siteid', 'offerid', 'category', 'merchant',\n",
       "       'countrycode', 'browserid', 'devid', 'click', 'merchant_cnt',\n",
       "       'siteid_cnt', 'category_cnt', 'offerid_cnt'],\n",
       "      dtype='object')"
      ]
     },
     "execution_count": 78,
     "metadata": {},
     "output_type": "execute_result"
    }
   ],
   "source": [
    "train.columns"
   ]
  },
  {
   "cell_type": "code",
   "execution_count": 79,
   "metadata": {
    "collapsed": true
   },
   "outputs": [],
   "source": [
    "# merc_offer = train.groupby(['merchant','offerid']).agg({'ID' : 'count'}).reset_index()\n",
    "train = train.merge(merc_offer, how = 'left')\n",
    "train = train.merge(merc_site, how = 'left')\n",
    "train = train.merge(merc_cat, how = 'left')\n",
    "train = train.merge(site_offer, how = 'left')\n",
    "train = train.merge(site_cat, how = 'left')\n",
    "train = train.merge(cat_offer, how = 'left')\n",
    "\n",
    "test = test.merge(merc_offer, how = 'left')\n",
    "test = test.merge(merc_site, how = 'left')\n",
    "test = test.merge(merc_cat, how = 'left')\n",
    "test = test.merge(site_offer, how = 'left')\n",
    "test = test.merge(site_cat, how = 'left')\n",
    "test = test.merge(cat_offer, how = 'left')"
   ]
  },
  {
   "cell_type": "markdown",
   "metadata": {},
   "source": [
    "## undersampling"
   ]
  },
  {
   "cell_type": "code",
   "execution_count": 80,
   "metadata": {
    "collapsed": true
   },
   "outputs": [],
   "source": [
    "train_pos = train[train.click == 1]\n",
    "train_neg = train[train.click == 0]\n",
    "train_neg_sample = train_neg.loc [np.random.choice(train_neg.index.values, 9 * train_pos.shape[0] ) ]\n",
    "train = train_pos.append(train_neg_sample)\n",
    "# del train_neg, train_neg_sample, train_pos"
   ]
  },
  {
   "cell_type": "code",
   "execution_count": 81,
   "metadata": {},
   "outputs": [
    {
     "data": {
      "text/plain": [
       "0    0.9\n",
       "1    0.1\n",
       "Name: click, dtype: float64"
      ]
     },
     "execution_count": 81,
     "metadata": {},
     "output_type": "execute_result"
    }
   ],
   "source": [
    "train.click.value_counts()/train.shape[0]"
   ]
  },
  {
   "cell_type": "code",
   "execution_count": 82,
   "metadata": {},
   "outputs": [
    {
     "data": {
      "text/plain": [
       "(1309060, 20)"
      ]
     },
     "execution_count": 82,
     "metadata": {},
     "output_type": "execute_result"
    }
   ],
   "source": [
    "train.shape"
   ]
  },
  {
   "cell_type": "markdown",
   "metadata": {},
   "source": [
    "### Clean Data and Create Features"
   ]
  },
  {
   "cell_type": "code",
   "execution_count": 83,
   "metadata": {
    "collapsed": true
   },
   "outputs": [],
   "source": [
    "# set datatime\n",
    "train['datetime'] = pd.to_datetime(train['datetime'])\n",
    "test['datetime'] = pd.to_datetime(test['datetime'])\n",
    "# create datetime variable\n",
    "train['tweekday'] = train['datetime'].dt.weekday\n",
    "train['thour'] = train['datetime'].dt.hour\n",
    "train['tminute'] = train['datetime'].dt.minute\n",
    "\n",
    "test['tweekday'] = test['datetime'].dt.weekday\n",
    "test['thour'] = test['datetime'].dt.hour\n",
    "test['tminute'] = test['datetime'].dt.minute"
   ]
  },
  {
   "cell_type": "code",
   "execution_count": 84,
   "metadata": {
    "collapsed": true
   },
   "outputs": [],
   "source": [
    "cols = ['siteid','offerid','category','merchant']\n",
    "\n",
    "for x in cols:\n",
    "    train[x] = train[x].astype('object')\n",
    "    test[x] = test[x].astype('object')"
   ]
  },
  {
   "cell_type": "code",
   "execution_count": 85,
   "metadata": {
    "collapsed": true
   },
   "outputs": [],
   "source": [
    "cat_cols = cols + ['countrycode','browserid','devid']\n",
    "for col in cat_cols:\n",
    "    lbl = LabelEncoder()\n",
    "    lbl.fit(list(train[col].values) + list(test[col].values))\n",
    "    train[col] = lbl.transform(list(train[col].values))\n",
    "    test[col] = lbl.transform(list(test[col].values))"
   ]
  },
  {
   "cell_type": "code",
   "execution_count": 86,
   "metadata": {
    "collapsed": true
   },
   "outputs": [],
   "source": [
    "cols_to_transform = ['devid','browserid','countrycode']"
   ]
  },
  {
   "cell_type": "code",
   "execution_count": 87,
   "metadata": {
    "collapsed": true
   },
   "outputs": [],
   "source": [
    "train = pd.get_dummies( data = train, columns = cols_to_transform )\n",
    "test = pd.get_dummies( data = test, columns = cols_to_transform )"
   ]
  },
  {
   "cell_type": "code",
   "execution_count": 88,
   "metadata": {},
   "outputs": [
    {
     "name": "stdout",
     "output_type": "stream",
     "text": [
      "(3706907, 41) (1309060, 42)\n"
     ]
    }
   ],
   "source": [
    "print (test.shape, train.shape)"
   ]
  },
  {
   "cell_type": "markdown",
   "metadata": {},
   "source": [
    "### Model Training"
   ]
  },
  {
   "cell_type": "code",
   "execution_count": 89,
   "metadata": {},
   "outputs": [
    {
     "data": {
      "text/html": [
       "<div>\n",
       "<style>\n",
       "    .dataframe thead tr:only-child th {\n",
       "        text-align: right;\n",
       "    }\n",
       "\n",
       "    .dataframe thead th {\n",
       "        text-align: left;\n",
       "    }\n",
       "\n",
       "    .dataframe tbody tr th {\n",
       "        vertical-align: top;\n",
       "    }\n",
       "</style>\n",
       "<table border=\"1\" class=\"dataframe\">\n",
       "  <thead>\n",
       "    <tr style=\"text-align: right;\">\n",
       "      <th></th>\n",
       "      <th>ID</th>\n",
       "      <th>datetime</th>\n",
       "      <th>siteid</th>\n",
       "      <th>offerid</th>\n",
       "      <th>category</th>\n",
       "      <th>merchant</th>\n",
       "      <th>click</th>\n",
       "      <th>merchant_cnt</th>\n",
       "      <th>siteid_cnt</th>\n",
       "      <th>category_cnt</th>\n",
       "      <th>...</th>\n",
       "      <th>browserid_8</th>\n",
       "      <th>browserid_9</th>\n",
       "      <th>browserid_10</th>\n",
       "      <th>browserid_11</th>\n",
       "      <th>countrycode_0</th>\n",
       "      <th>countrycode_1</th>\n",
       "      <th>countrycode_2</th>\n",
       "      <th>countrycode_3</th>\n",
       "      <th>countrycode_4</th>\n",
       "      <th>countrycode_5</th>\n",
       "    </tr>\n",
       "  </thead>\n",
       "  <tbody>\n",
       "    <tr>\n",
       "      <th>71</th>\n",
       "      <td>IDLmaEOcR</td>\n",
       "      <td>2017-01-18 17:51:52</td>\n",
       "      <td>45197</td>\n",
       "      <td>202526</td>\n",
       "      <td>150</td>\n",
       "      <td>383</td>\n",
       "      <td>1</td>\n",
       "      <td>19744</td>\n",
       "      <td>124</td>\n",
       "      <td>33005</td>\n",
       "      <td>...</td>\n",
       "      <td>0</td>\n",
       "      <td>0</td>\n",
       "      <td>0</td>\n",
       "      <td>0</td>\n",
       "      <td>0</td>\n",
       "      <td>1</td>\n",
       "      <td>0</td>\n",
       "      <td>0</td>\n",
       "      <td>0</td>\n",
       "      <td>0</td>\n",
       "    </tr>\n",
       "    <tr>\n",
       "      <th>74</th>\n",
       "      <td>IDYK7BCsJ</td>\n",
       "      <td>2017-01-14 09:45:59</td>\n",
       "      <td>178650</td>\n",
       "      <td>231743</td>\n",
       "      <td>82</td>\n",
       "      <td>205</td>\n",
       "      <td>1</td>\n",
       "      <td>53200</td>\n",
       "      <td>2</td>\n",
       "      <td>5239</td>\n",
       "      <td>...</td>\n",
       "      <td>0</td>\n",
       "      <td>0</td>\n",
       "      <td>0</td>\n",
       "      <td>0</td>\n",
       "      <td>0</td>\n",
       "      <td>0</td>\n",
       "      <td>0</td>\n",
       "      <td>1</td>\n",
       "      <td>0</td>\n",
       "      <td>0</td>\n",
       "    </tr>\n",
       "    <tr>\n",
       "      <th>127</th>\n",
       "      <td>IDAv0IcWo</td>\n",
       "      <td>2017-01-14 12:23:06</td>\n",
       "      <td>93218</td>\n",
       "      <td>493610</td>\n",
       "      <td>32</td>\n",
       "      <td>166</td>\n",
       "      <td>1</td>\n",
       "      <td>29485</td>\n",
       "      <td>41</td>\n",
       "      <td>53305</td>\n",
       "      <td>...</td>\n",
       "      <td>0</td>\n",
       "      <td>0</td>\n",
       "      <td>0</td>\n",
       "      <td>0</td>\n",
       "      <td>0</td>\n",
       "      <td>0</td>\n",
       "      <td>1</td>\n",
       "      <td>0</td>\n",
       "      <td>0</td>\n",
       "      <td>0</td>\n",
       "    </tr>\n",
       "    <tr>\n",
       "      <th>142</th>\n",
       "      <td>IDdBKCKlf</td>\n",
       "      <td>2017-01-19 09:32:29</td>\n",
       "      <td>90816</td>\n",
       "      <td>165527</td>\n",
       "      <td>231</td>\n",
       "      <td>266</td>\n",
       "      <td>1</td>\n",
       "      <td>28876</td>\n",
       "      <td>34</td>\n",
       "      <td>89828</td>\n",
       "      <td>...</td>\n",
       "      <td>0</td>\n",
       "      <td>0</td>\n",
       "      <td>0</td>\n",
       "      <td>0</td>\n",
       "      <td>0</td>\n",
       "      <td>0</td>\n",
       "      <td>0</td>\n",
       "      <td>1</td>\n",
       "      <td>0</td>\n",
       "      <td>0</td>\n",
       "    </tr>\n",
       "    <tr>\n",
       "      <th>149</th>\n",
       "      <td>ID7sLHCVA</td>\n",
       "      <td>2017-01-10 16:12:08</td>\n",
       "      <td>12853</td>\n",
       "      <td>135566</td>\n",
       "      <td>88</td>\n",
       "      <td>127</td>\n",
       "      <td>1</td>\n",
       "      <td>56348</td>\n",
       "      <td>1</td>\n",
       "      <td>555</td>\n",
       "      <td>...</td>\n",
       "      <td>0</td>\n",
       "      <td>0</td>\n",
       "      <td>0</td>\n",
       "      <td>0</td>\n",
       "      <td>0</td>\n",
       "      <td>0</td>\n",
       "      <td>1</td>\n",
       "      <td>0</td>\n",
       "      <td>0</td>\n",
       "      <td>0</td>\n",
       "    </tr>\n",
       "  </tbody>\n",
       "</table>\n",
       "<p>5 rows × 42 columns</p>\n",
       "</div>"
      ],
      "text/plain": [
       "            ID            datetime  siteid  offerid  category  merchant  \\\n",
       "71   IDLmaEOcR 2017-01-18 17:51:52   45197   202526       150       383   \n",
       "74   IDYK7BCsJ 2017-01-14 09:45:59  178650   231743        82       205   \n",
       "127  IDAv0IcWo 2017-01-14 12:23:06   93218   493610        32       166   \n",
       "142  IDdBKCKlf 2017-01-19 09:32:29   90816   165527       231       266   \n",
       "149  ID7sLHCVA 2017-01-10 16:12:08   12853   135566        88       127   \n",
       "\n",
       "     click  merchant_cnt  siteid_cnt  category_cnt      ...        \\\n",
       "71       1         19744         124         33005      ...         \n",
       "74       1         53200           2          5239      ...         \n",
       "127      1         29485          41         53305      ...         \n",
       "142      1         28876          34         89828      ...         \n",
       "149      1         56348           1           555      ...         \n",
       "\n",
       "     browserid_8  browserid_9  browserid_10  browserid_11  countrycode_0  \\\n",
       "71             0            0             0             0              0   \n",
       "74             0            0             0             0              0   \n",
       "127            0            0             0             0              0   \n",
       "142            0            0             0             0              0   \n",
       "149            0            0             0             0              0   \n",
       "\n",
       "     countrycode_1  countrycode_2  countrycode_3  countrycode_4  countrycode_5  \n",
       "71               1              0              0              0              0  \n",
       "74               0              0              1              0              0  \n",
       "127              0              1              0              0              0  \n",
       "142              0              0              1              0              0  \n",
       "149              0              1              0              0              0  \n",
       "\n",
       "[5 rows x 42 columns]"
      ]
     },
     "execution_count": 89,
     "metadata": {},
     "output_type": "execute_result"
    }
   ],
   "source": [
    "train.head()"
   ]
  },
  {
   "cell_type": "code",
   "execution_count": 90,
   "metadata": {
    "collapsed": true
   },
   "outputs": [],
   "source": [
    "cols_to_use = list(set(train.columns) - set(['ID','datetime','click']))"
   ]
  },
  {
   "cell_type": "code",
   "execution_count": 91,
   "metadata": {
    "collapsed": true
   },
   "outputs": [],
   "source": [
    "params = {}\n",
    "params['objective'] = 'binary:logistic'\n",
    "params['eta'] = 0.5\n",
    "params['silent'] = 1\n",
    "params['eval_metric'] = 'auc'"
   ]
  },
  {
   "cell_type": "code",
   "execution_count": 92,
   "metadata": {},
   "outputs": [
    {
     "data": {
      "text/plain": [
       "Index(['ID', 'datetime', 'siteid', 'offerid', 'category', 'merchant', 'click',\n",
       "       'merchant_cnt', 'siteid_cnt', 'category_cnt', 'offerid_cnt',\n",
       "       'merc_offer_cnt', 'merc_site_cnt', 'merc_cat_cnt', 'site_offer_cnt',\n",
       "       'site_cat_cnt', 'cat_offer_cnt', 'tweekday', 'thour', 'tminute',\n",
       "       'devid_0', 'devid_1', 'devid_2', 'devid_3', 'browserid_0',\n",
       "       'browserid_1', 'browserid_2', 'browserid_3', 'browserid_4',\n",
       "       'browserid_5', 'browserid_6', 'browserid_7', 'browserid_8',\n",
       "       'browserid_9', 'browserid_10', 'browserid_11', 'countrycode_0',\n",
       "       'countrycode_1', 'countrycode_2', 'countrycode_3', 'countrycode_4',\n",
       "       'countrycode_5'],\n",
       "      dtype='object')"
      ]
     },
     "execution_count": 92,
     "metadata": {},
     "output_type": "execute_result"
    }
   ],
   "source": [
    "train.columns"
   ]
  },
  {
   "cell_type": "code",
   "execution_count": 93,
   "metadata": {},
   "outputs": [
    {
     "data": {
      "text/plain": [
       "Index(['ID', 'datetime', 'siteid', 'offerid', 'category', 'merchant',\n",
       "       'merchant_cnt', 'siteid_cnt', 'category_cnt', 'offerid_cnt',\n",
       "       'merc_offer_cnt', 'merc_site_cnt', 'merc_cat_cnt', 'site_offer_cnt',\n",
       "       'site_cat_cnt', 'cat_offer_cnt', 'tweekday', 'thour', 'tminute',\n",
       "       'devid_0', 'devid_1', 'devid_2', 'devid_3', 'browserid_0',\n",
       "       'browserid_1', 'browserid_2', 'browserid_3', 'browserid_4',\n",
       "       'browserid_5', 'browserid_6', 'browserid_7', 'browserid_8',\n",
       "       'browserid_9', 'browserid_10', 'browserid_11', 'countrycode_0',\n",
       "       'countrycode_1', 'countrycode_2', 'countrycode_3', 'countrycode_4',\n",
       "       'countrycode_5'],\n",
       "      dtype='object')"
      ]
     },
     "execution_count": 93,
     "metadata": {},
     "output_type": "execute_result"
    }
   ],
   "source": [
    "test.columns"
   ]
  },
  {
   "cell_type": "code",
   "execution_count": 94,
   "metadata": {
    "collapsed": true
   },
   "outputs": [],
   "source": [
    "X, y = train[cols_to_use], train['click']\n",
    "dtrain = xgb.DMatrix(X, label= y)\n",
    "dtest = xgb.DMatrix(test[cols_to_use])\n",
    "ids = test['ID']"
   ]
  },
  {
   "cell_type": "code",
   "execution_count": 95,
   "metadata": {},
   "outputs": [
    {
     "name": "stdout",
     "output_type": "stream",
     "text": [
      "[0]\ttrain-auc:0.968371\ttest-auc:0.968252\n",
      "[20]\ttrain-auc:0.987224\ttest-auc:0.986157\n",
      "[40]\ttrain-auc:0.989037\ttest-auc:0.987119\n",
      "[60]\ttrain-auc:0.990273\ttest-auc:0.987669\n",
      "[80]\ttrain-auc:0.991243\ttest-auc:0.988022\n",
      "[100]\ttrain-auc:0.99213\ttest-auc:0.988369\n",
      "[120]\ttrain-auc:0.992818\ttest-auc:0.988614\n",
      "[140]\ttrain-auc:0.993425\ttest-auc:0.988784\n",
      "[160]\ttrain-auc:0.994042\ttest-auc:0.988931\n",
      "[180]\ttrain-auc:0.994588\ttest-auc:0.989002\n",
      "[200]\ttrain-auc:0.99506\ttest-auc:0.989084\n",
      "[220]\ttrain-auc:0.995471\ttest-auc:0.989175\n",
      "[240]\ttrain-auc:0.995853\ttest-auc:0.989265\n",
      "[260]\ttrain-auc:0.996223\ttest-auc:0.989359\n",
      "[280]\ttrain-auc:0.99654\ttest-auc:0.989433\n",
      "[300]\ttrain-auc:0.996821\ttest-auc:0.989485\n",
      "[320]\ttrain-auc:0.997103\ttest-auc:0.98952\n",
      "[340]\ttrain-auc:0.997362\ttest-auc:0.989547\n",
      "[360]\ttrain-auc:0.997601\ttest-auc:0.989561\n",
      "[380]\ttrain-auc:0.997802\ttest-auc:0.989598\n",
      "[400]\ttrain-auc:0.998021\ttest-auc:0.989626\n"
     ]
    }
   ],
   "source": [
    "num_rounds = 600\n",
    "cv_output = xgb.cv(params, dtrain, num_boost_round=num_rounds, early_stopping_rounds=10, verbose_eval=20, show_stdv=False)\n",
    "# [580]\ttrain-auc:0.993018\ttest-auc:0.987913\n",
    "# [300]\ttrain-auc:0.99624\ttest-auc:0.990564\n",
    "# [580]\ttrain-auc:0.998785\ttest-auc:0.994601\n",
    "# [580]\ttrain-auc:0.990572\ttest-auc:0.977709"
   ]
  },
  {
   "cell_type": "code",
   "execution_count": 96,
   "metadata": {},
   "outputs": [
    {
     "data": {
      "text/plain": [
       "403"
      ]
     },
     "execution_count": 96,
     "metadata": {},
     "output_type": "execute_result"
    }
   ],
   "source": [
    "len(cv_output)"
   ]
  },
  {
   "cell_type": "code",
   "execution_count": 97,
   "metadata": {},
   "outputs": [
    {
     "name": "stdout",
     "output_type": "stream",
     "text": [
      "[0]\tdtrain-auc:0.967991\n",
      "[100]\tdtrain-auc:0.991429\n",
      "[200]\tdtrain-auc:0.994099\n",
      "[300]\tdtrain-auc:0.995734\n",
      "[400]\tdtrain-auc:0.99696\n"
     ]
    }
   ],
   "source": [
    "num_rounds = len(cv_output)\n",
    "watchlist = [(dtrain ,'dtrain')]\n",
    "clf_xgb_main = xgb.train(dtrain=dtrain, params=params, num_boost_round=num_rounds, evals=watchlist, verbose_eval=100)"
   ]
  },
  {
   "cell_type": "code",
   "execution_count": 98,
   "metadata": {
    "collapsed": true
   },
   "outputs": [],
   "source": [
    "preds = clf_xgb_main.predict(dtest)"
   ]
  },
  {
   "cell_type": "code",
   "execution_count": null,
   "metadata": {
    "collapsed": true
   },
   "outputs": [],
   "source": [
    "# clf = lgb.train(params, dtrain,num_boost_round=500,valid_sets=dval,verbose_eval=20)"
   ]
  },
  {
   "cell_type": "code",
   "execution_count": null,
   "metadata": {
    "collapsed": true
   },
   "outputs": [],
   "source": [
    "# preds = clf.predict(test[cols_to_use])"
   ]
  },
  {
   "cell_type": "code",
   "execution_count": 99,
   "metadata": {
    "collapsed": true
   },
   "outputs": [],
   "source": [
    "sub = pd.DataFrame({'ID':ids, 'click':preds})\n",
    "sub.to_csv('xgb5_10pos_final.csv', index=False)"
   ]
  },
  {
   "cell_type": "code",
   "execution_count": null,
   "metadata": {
    "collapsed": true
   },
   "outputs": [],
   "source": [
    "len(preds)"
   ]
  }
 ],
 "metadata": {
  "anaconda-cloud": {},
  "kernelspec": {
   "display_name": "Python 3",
   "language": "python",
   "name": "python3"
  },
  "language_info": {
   "codemirror_mode": {
    "name": "ipython",
    "version": 3
   },
   "file_extension": ".py",
   "mimetype": "text/x-python",
   "name": "python",
   "nbconvert_exporter": "python",
   "pygments_lexer": "ipython3",
   "version": "3.6.1"
  }
 },
 "nbformat": 4,
 "nbformat_minor": 2
}
